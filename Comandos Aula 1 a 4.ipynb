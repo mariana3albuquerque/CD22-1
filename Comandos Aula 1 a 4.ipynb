{
 "cells": [
  {
   "cell_type": "code",
   "execution_count": null,
   "id": "426efe52",
   "metadata": {},
   "outputs": [],
   "source": [
    "# AULA 1:\n",
    "\n",
    ".read_excel: abre um arquivo do tipo XLSX;\n",
    ".head: mostra apenas as primeiras linhas do DataFrame;\n",
    ".tail: mostra apenas as últimas linhas do DataFrame;\n",
    ".sort_values: devolve um novo DataFrame com o conteúdo ordenado;\n",
    ".loc: acessa um subconjunto de linhas e/ou colunas considerando seus respectivos rótulos no DataFrame.\n",
    ".iloc: acessa um subconjunto de linhas e/ou colunas considerando números inteiros para indicar a posição.\n"
   ]
  },
  {
   "cell_type": "code",
   "execution_count": null,
   "id": "c53ceb1f",
   "metadata": {},
   "outputs": [],
   "source": [
    "# AULA 2:\n",
    "\n",
    ".astype: #mudar o a coluna para category ou float\n",
    ".cat.categories: #nomear as categorias da coluna de acordo com o indice na lista\n",
    ".cat.ordered: #ordenar categorias que sao ordinais de acordo com a sequencia que vc coloca dentro da lista. \n",
    "    a resposta é em bool\n",
    ".value_counts:  #pode ser utilizada para montar a tabela de frequências de uma coluna. \n",
    "COM NORMALIZE= TRUE fica em frequencia absoluta\n",
    "    \n",
    "pd.crosstab: cruza tabelas\n",
    ".mean: calcula media\n",
    ".median: mediana\n",
    ".quantile: quartil\n",
    ".var: variancia\n",
    ".std: desvio padrao\n",
    ".describe:mostra os bagui acima tudo"
   ]
  },
  {
   "cell_type": "code",
   "execution_count": null,
   "id": "4f2e9ab5",
   "metadata": {},
   "outputs": [],
   "source": [
    "# AULA 3\n",
    "\n",
    ".cov (em um pd.Series): fórmula que calcula a covariância entre dados\n",
    ".corr (em um pd.Series): fórmula que calcula a correlação linecar entre os dados\n",
    "Gráfico\n",
    "plt.scatter: plota um gráfico de dispersão\n",
    ".plot.scatter (em um pd.DataFrame): plota um gráfico de dispersão utilizando a biblioteca pandas\n",
    "plt.figure: cria mais de um gráfico na mesma figura\n",
    "plt.subplot: divide a figura em \"parcelas\"\n",
    "plt.title: adiciona título ao gráfico\n",
    "plt.xlabel: adiciona legenda ao eixo das abscissas\n",
    "plt.ylabel: adiciona legenda ao eixo das ordenadas\n",
    "plt.show: faz que o gráfico aparece"
   ]
  },
  {
   "cell_type": "code",
   "execution_count": null,
   "id": "ffa463e5",
   "metadata": {},
   "outputs": [],
   "source": []
  },
  {
   "cell_type": "code",
   "execution_count": null,
   "id": "7f8f9964",
   "metadata": {},
   "outputs": [],
   "source": []
  },
  {
   "cell_type": "code",
   "execution_count": null,
   "id": "abf2bec5",
   "metadata": {},
   "outputs": [],
   "source": []
  },
  {
   "cell_type": "code",
   "execution_count": null,
   "id": "a1f29e53",
   "metadata": {},
   "outputs": [],
   "source": []
  },
  {
   "cell_type": "code",
   "execution_count": null,
   "id": "84a68d30",
   "metadata": {},
   "outputs": [],
   "source": []
  }
 ],
 "metadata": {
  "kernelspec": {
   "display_name": "Python 3",
   "language": "python",
   "name": "python3"
  },
  "language_info": {
   "codemirror_mode": {
    "name": "ipython",
    "version": 3
   },
   "file_extension": ".py",
   "mimetype": "text/x-python",
   "name": "python",
   "nbconvert_exporter": "python",
   "pygments_lexer": "ipython3",
   "version": "3.8.8"
  }
 },
 "nbformat": 4,
 "nbformat_minor": 5
}
